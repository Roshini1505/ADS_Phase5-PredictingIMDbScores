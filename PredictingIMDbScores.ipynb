{
 "cells": [
  {
   "cell_type": "markdown",
   "metadata": {},
   "source": [
    "# 7321 - NANDHA COLLEGE OF TECHNOLOGY\n",
    "\n",
    "#ADS_Phase 5: Predicting IMDb Scores\n",
    "\n",
    "# Project by ROSHINI S"
   ]
  },
  {
   "cell_type": "code",
   "execution_count": null,
   "metadata": {
    "_cell_guid": "b1076dfc-b9ad-4769-8c92-a6c4dae69d19",
    "_uuid": "8f2839f25d086af736a60e9eeb907d3b93b6e0e5",
    "execution": {
     "iopub.execute_input": "2023-01-26T13:51:46.640864Z",
     "iopub.status.busy": "2023-01-26T13:51:46.640430Z",
     "iopub.status.idle": "2023-01-26T13:51:46.645742Z",
     "shell.execute_reply": "2023-01-26T13:51:46.644801Z",
     "shell.execute_reply.started": "2023-01-26T13:51:46.640838Z"
    }
   },
   "outputs": [],
   "source": [
    "import pandas as pd\n",
    "import numpy as np"
   ]
  },
  {
   "cell_type": "code",
   "execution_count": null,
   "metadata": {
    "execution": {
     "iopub.execute_input": "2023-01-26T13:51:46.647628Z",
     "iopub.status.busy": "2023-01-26T13:51:46.647344Z",
     "iopub.status.idle": "2023-01-26T13:51:46.707502Z",
     "shell.execute_reply": "2023-01-26T13:51:46.706371Z",
     "shell.execute_reply.started": "2023-01-26T13:51:46.647606Z"
    }
   },
   "outputs": [],
   "source": [
    "df=pd.read_csv(\"C:\\Users\\roshh\\Downloads\\Project-PredictingIMDbScores\\Dataset\\NetflixOriginals.csv\")"
   ]
  },
  {
   "cell_type": "code",
   "execution_count": null,
   "metadata": {
    "execution": {
     "iopub.execute_input": "2023-01-26T13:51:46.710261Z",
     "iopub.status.busy": "2023-01-26T13:51:46.709658Z",
     "iopub.status.idle": "2023-01-26T13:51:46.731197Z",
     "shell.execute_reply": "2023-01-26T13:51:46.729384Z",
     "shell.execute_reply.started": "2023-01-26T13:51:46.710228Z"
    }
   },
   "outputs": [],
   "source": [
    "df"
   ]
  },
  {
   "cell_type": "code",
   "execution_count": null,
   "metadata": {
    "execution": {
     "iopub.execute_input": "2023-01-26T13:51:46.732763Z",
     "iopub.status.busy": "2023-01-26T13:51:46.732494Z",
     "iopub.status.idle": "2023-01-26T13:51:46.753696Z",
     "shell.execute_reply": "2023-01-26T13:51:46.752445Z",
     "shell.execute_reply.started": "2023-01-26T13:51:46.732741Z"
    }
   },
   "outputs": [],
   "source": [
    "df.info()"
   ]
  },
  {
   "cell_type": "code",
   "execution_count": null,
   "metadata": {
    "execution": {
     "iopub.execute_input": "2023-01-26T13:51:46.758305Z",
     "iopub.status.busy": "2023-01-26T13:51:46.757969Z",
     "iopub.status.idle": "2023-01-26T13:51:46.781030Z",
     "shell.execute_reply": "2023-01-26T13:51:46.779498Z",
     "shell.execute_reply.started": "2023-01-26T13:51:46.758281Z"
    }
   },
   "outputs": [],
   "source": [
    "df.describe()"
   ]
  },
  {
   "cell_type": "code",
   "execution_count": null,
   "metadata": {
    "execution": {
     "iopub.execute_input": "2023-01-26T13:51:46.783215Z",
     "iopub.status.busy": "2023-01-26T13:51:46.782845Z",
     "iopub.status.idle": "2023-01-26T13:51:46.796248Z",
     "shell.execute_reply": "2023-01-26T13:51:46.795343Z",
     "shell.execute_reply.started": "2023-01-26T13:51:46.783191Z"
    }
   },
   "outputs": [],
   "source": [
    "df.isnull().sum()"
   ]
  },
  {
   "cell_type": "code",
   "execution_count": null,
   "metadata": {
    "execution": {
     "iopub.execute_input": "2023-01-26T13:51:46.798509Z",
     "iopub.status.busy": "2023-01-26T13:51:46.798162Z",
     "iopub.status.idle": "2023-01-26T13:51:46.824746Z",
     "shell.execute_reply": "2023-01-26T13:51:46.823964Z",
     "shell.execute_reply.started": "2023-01-26T13:51:46.798477Z"
    }
   },
   "outputs": [],
   "source": [
    "df.loc[df['director'].isnull()]\n"
   ]
  },
  {
   "cell_type": "code",
   "execution_count": null,
   "metadata": {
    "execution": {
     "iopub.execute_input": "2023-01-26T13:51:46.826632Z",
     "iopub.status.busy": "2023-01-26T13:51:46.826422Z",
     "iopub.status.idle": "2023-01-26T13:51:46.844248Z",
     "shell.execute_reply": "2023-01-26T13:51:46.843369Z",
     "shell.execute_reply.started": "2023-01-26T13:51:46.826610Z"
    }
   },
   "outputs": [],
   "source": [
    "df.loc[df['date_added'].isnull()]\n"
   ]
  },
  {
   "cell_type": "code",
   "execution_count": null,
   "metadata": {
    "execution": {
     "iopub.execute_input": "2023-01-26T13:51:46.845256Z",
     "iopub.status.busy": "2023-01-26T13:51:46.845049Z",
     "iopub.status.idle": "2023-01-26T13:51:46.864437Z",
     "shell.execute_reply": "2023-01-26T13:51:46.863715Z",
     "shell.execute_reply.started": "2023-01-26T13:51:46.845235Z"
    }
   },
   "outputs": [],
   "source": [
    "df = df.dropna()\n"
   ]
  },
  {
   "cell_type": "code",
   "execution_count": null,
   "metadata": {
    "execution": {
     "iopub.execute_input": "2023-01-26T13:51:46.865472Z",
     "iopub.status.busy": "2023-01-26T13:51:46.865196Z",
     "iopub.status.idle": "2023-01-26T13:51:46.887636Z",
     "shell.execute_reply": "2023-01-26T13:51:46.886702Z",
     "shell.execute_reply.started": "2023-01-26T13:51:46.865450Z"
    }
   },
   "outputs": [],
   "source": [
    "df.head()"
   ]
  },
  {
   "cell_type": "code",
   "execution_count": null,
   "metadata": {
    "execution": {
     "iopub.execute_input": "2023-01-26T13:51:46.893010Z",
     "iopub.status.busy": "2023-01-26T13:51:46.891669Z",
     "iopub.status.idle": "2023-01-26T13:51:46.912350Z",
     "shell.execute_reply": "2023-01-26T13:51:46.910853Z",
     "shell.execute_reply.started": "2023-01-26T13:51:46.892944Z"
    }
   },
   "outputs": [],
   "source": [
    "df.tail()"
   ]
  },
  {
   "cell_type": "code",
   "execution_count": null,
   "metadata": {
    "execution": {
     "iopub.execute_input": "2023-01-26T13:51:46.915293Z",
     "iopub.status.busy": "2023-01-26T13:51:46.914850Z",
     "iopub.status.idle": "2023-01-26T13:51:47.012605Z",
     "shell.execute_reply": "2023-01-26T13:51:47.011050Z",
     "shell.execute_reply.started": "2023-01-26T13:51:46.915258Z"
    }
   },
   "outputs": [],
   "source": [
    "df[\"date_added\"] = pd.to_datetime(df[\"date_added\"])"
   ]
  },
  {
   "cell_type": "code",
   "execution_count": null,
   "metadata": {
    "execution": {
     "iopub.execute_input": "2023-01-26T13:51:47.014028Z",
     "iopub.status.busy": "2023-01-26T13:51:47.013756Z",
     "iopub.status.idle": "2023-01-26T13:51:47.020395Z",
     "shell.execute_reply": "2023-01-26T13:51:47.019079Z",
     "shell.execute_reply.started": "2023-01-26T13:51:47.014005Z"
    }
   },
   "outputs": [],
   "source": [
    "df = df.rename(columns={\"date_added\": \"date\"})"
   ]
  },
  {
   "cell_type": "code",
   "execution_count": null,
   "metadata": {
    "execution": {
     "iopub.execute_input": "2023-01-26T13:51:47.021953Z",
     "iopub.status.busy": "2023-01-26T13:51:47.021659Z",
     "iopub.status.idle": "2023-01-26T13:51:47.045876Z",
     "shell.execute_reply": "2023-01-26T13:51:47.044662Z",
     "shell.execute_reply.started": "2023-01-26T13:51:47.021922Z"
    }
   },
   "outputs": [],
   "source": [
    "df.head()"
   ]
  },
  {
   "cell_type": "code",
   "execution_count": null,
   "metadata": {
    "execution": {
     "iopub.execute_input": "2023-01-26T13:51:47.048530Z",
     "iopub.status.busy": "2023-01-26T13:51:47.047844Z",
     "iopub.status.idle": "2023-01-26T13:51:47.067645Z",
     "shell.execute_reply": "2023-01-26T13:51:47.066963Z",
     "shell.execute_reply.started": "2023-01-26T13:51:47.048502Z"
    }
   },
   "outputs": [],
   "source": [
    "df.info()"
   ]
  },
  {
   "cell_type": "code",
   "execution_count": null,
   "metadata": {
    "execution": {
     "iopub.execute_input": "2023-01-26T13:51:47.069568Z",
     "iopub.status.busy": "2023-01-26T13:51:47.068536Z",
     "iopub.status.idle": "2023-01-26T13:51:47.079551Z",
     "shell.execute_reply": "2023-01-26T13:51:47.078088Z",
     "shell.execute_reply.started": "2023-01-26T13:51:47.069523Z"
    }
   },
   "outputs": [],
   "source": [
    "df[\"rating\"].describe()"
   ]
  },
  {
   "cell_type": "code",
   "execution_count": null,
   "metadata": {
    "execution": {
     "iopub.execute_input": "2023-01-26T13:51:47.081332Z",
     "iopub.status.busy": "2023-01-26T13:51:47.081043Z",
     "iopub.status.idle": "2023-01-26T13:51:47.090984Z",
     "shell.execute_reply": "2023-01-26T13:51:47.090271Z",
     "shell.execute_reply.started": "2023-01-26T13:51:47.081308Z"
    }
   },
   "outputs": [],
   "source": [
    "import matplotlib.pyplot as plt"
   ]
  },
  {
   "cell_type": "code",
   "execution_count": null,
   "metadata": {
    "execution": {
     "iopub.execute_input": "2023-01-26T13:51:47.093213Z",
     "iopub.status.busy": "2023-01-26T13:51:47.092158Z",
     "iopub.status.idle": "2023-01-26T13:51:47.106737Z",
     "shell.execute_reply": "2023-01-26T13:51:47.105776Z",
     "shell.execute_reply.started": "2023-01-26T13:51:47.093186Z"
    }
   },
   "outputs": [],
   "source": [
    "numeric_cols = df.select_dtypes(include=[np.number])"
   ]
  },
  {
   "cell_type": "code",
   "execution_count": null,
   "metadata": {
    "execution": {
     "iopub.execute_input": "2023-01-26T13:51:47.108435Z",
     "iopub.status.busy": "2023-01-26T13:51:47.108166Z",
     "iopub.status.idle": "2023-01-26T13:51:47.126197Z",
     "shell.execute_reply": "2023-01-26T13:51:47.125572Z",
     "shell.execute_reply.started": "2023-01-26T13:51:47.108408Z"
    }
   },
   "outputs": [],
   "source": [
    "numeric_cols"
   ]
  },
  {
   "cell_type": "code",
   "execution_count": null,
   "metadata": {
    "execution": {
     "iopub.execute_input": "2023-01-26T13:51:47.127809Z",
     "iopub.status.busy": "2023-01-26T13:51:47.127446Z",
     "iopub.status.idle": "2023-01-26T13:51:47.294867Z",
     "shell.execute_reply": "2023-01-26T13:51:47.293984Z",
     "shell.execute_reply.started": "2023-01-26T13:51:47.127786Z"
    }
   },
   "outputs": [],
   "source": [
    "plt.figure(figsize=(13,9))\n",
    "plt.hist(df[\"duration\"], bins = 10)\n",
    "plt.xlabel(\"duratioin\")\n",
    "plt.show()"
   ]
  },
  {
   "cell_type": "code",
   "execution_count": null,
   "metadata": {
    "execution": {
     "iopub.execute_input": "2023-01-26T13:51:47.296317Z",
     "iopub.status.busy": "2023-01-26T13:51:47.296046Z",
     "iopub.status.idle": "2023-01-26T13:51:47.304210Z",
     "shell.execute_reply": "2023-01-26T13:51:47.303070Z",
     "shell.execute_reply.started": "2023-01-26T13:51:47.296286Z"
    }
   },
   "outputs": [],
   "source": [
    "print(df.groupby(\"type\")[\"duration\"].mean())"
   ]
  },
  {
   "cell_type": "code",
   "execution_count": null,
   "metadata": {
    "execution": {
     "iopub.execute_input": "2023-01-26T13:51:47.306367Z",
     "iopub.status.busy": "2023-01-26T13:51:47.306040Z",
     "iopub.status.idle": "2023-01-26T13:51:47.445487Z",
     "shell.execute_reply": "2023-01-26T13:51:47.444786Z",
     "shell.execute_reply.started": "2023-01-26T13:51:47.306342Z"
    }
   },
   "outputs": [],
   "source": [
    "# Use a box plot to compare the duration of movies & shows by type\n",
    "plt.figure(figsize=(13,9))\n",
    "plt.boxplot([df[df[\"type\"] == \"Movie\"][\"duration\"], df[df[\"type\"] == \"TV Show\"][\"duration\"]], labels = [\"Movies\", \"TV Shows\"])\n",
    "plt.ylabel(\"duration\")\n",
    "\n",
    "plt.show()"
   ]
  },
  {
   "cell_type": "code",
   "execution_count": null,
   "metadata": {
    "execution": {
     "iopub.execute_input": "2023-01-26T13:51:47.447083Z",
     "iopub.status.busy": "2023-01-26T13:51:47.446567Z",
     "iopub.status.idle": "2023-01-26T13:51:47.454520Z",
     "shell.execute_reply": "2023-01-26T13:51:47.453730Z",
     "shell.execute_reply.started": "2023-01-26T13:51:47.447054Z"
    }
   },
   "outputs": [],
   "source": [
    "df.director.unique()"
   ]
  },
  {
   "cell_type": "code",
   "execution_count": null,
   "metadata": {
    "execution": {
     "iopub.execute_input": "2023-01-26T13:51:47.456247Z",
     "iopub.status.busy": "2023-01-26T13:51:47.455662Z",
     "iopub.status.idle": "2023-01-26T13:51:47.924317Z",
     "shell.execute_reply": "2023-01-26T13:51:47.923038Z",
     "shell.execute_reply.started": "2023-01-26T13:51:47.456219Z"
    }
   },
   "outputs": [],
   "source": [
    "mean_duration = df.groupby(\"director\")[\"duration\"].mean()\n",
    "\n",
    "\n",
    "mean_duration.plot()\n",
    "plt.xlabel(\"Director\")\n",
    "plt.ylabel(\"Average Duration (minutes)\")\n",
    "plt.title(\"Relationship between Director and Average Duration\")\n",
    "plt.xticks(rotation=90)\n",
    "plt.show()"
   ]
  },
  {
   "cell_type": "code",
   "execution_count": null,
   "metadata": {
    "execution": {
     "iopub.execute_input": "2023-01-26T13:51:47.929003Z",
     "iopub.status.busy": "2023-01-26T13:51:47.928667Z",
     "iopub.status.idle": "2023-01-26T13:51:48.109129Z",
     "shell.execute_reply": "2023-01-26T13:51:48.108554Z",
     "shell.execute_reply.started": "2023-01-26T13:51:47.928979Z"
    }
   },
   "outputs": [],
   "source": [
    "plt.figure(figsize=(13,8))\n",
    "plt.scatter(df['release_year'], df['duration'])\n",
    "plt.xlabel('Release Year')\n",
    "plt.ylabel('Duration (minutes)')\n",
    "plt.title('Scatter plot of Release Year against Duration')\n",
    "plt.show()"
   ]
  },
  {
   "cell_type": "code",
   "execution_count": null,
   "metadata": {
    "execution": {
     "iopub.execute_input": "2023-01-26T13:51:48.110741Z",
     "iopub.status.busy": "2023-01-26T13:51:48.110020Z",
     "iopub.status.idle": "2023-01-26T13:51:48.120413Z",
     "shell.execute_reply": "2023-01-26T13:51:48.119162Z",
     "shell.execute_reply.started": "2023-01-26T13:51:48.110716Z"
    }
   },
   "outputs": [],
   "source": [
    "#reading the data\n",
    "df1=pd.read_csv(\"C:\\Users\\roshh\\Downloads\\Project-PredictingIMDbScores\\Dataset\\NetflixOriginals.csv')"
   ]
  },
  {
   "cell_type": "code",
   "execution_count": null,
   "metadata": {
    "execution": {
     "iopub.execute_input": "2023-01-26T13:51:48.122428Z",
     "iopub.status.busy": "2023-01-26T13:51:48.122108Z",
     "iopub.status.idle": "2023-01-26T13:51:48.144572Z",
     "shell.execute_reply": "2023-01-26T13:51:48.142881Z",
     "shell.execute_reply.started": "2023-01-26T13:51:48.122393Z"
    }
   },
   "outputs": [],
   "source": [
    "df1"
   ]
  },
  {
   "cell_type": "code",
   "execution_count": null,
   "metadata": {
    "execution": {
     "iopub.execute_input": "2023-01-26T13:51:48.146184Z",
     "iopub.status.busy": "2023-01-26T13:51:48.145891Z",
     "iopub.status.idle": "2023-01-26T13:51:48.161609Z",
     "shell.execute_reply": "2023-01-26T13:51:48.160540Z",
     "shell.execute_reply.started": "2023-01-26T13:51:48.146161Z"
    }
   },
   "outputs": [],
   "source": [
    "df1.info()"
   ]
  },
  {
   "cell_type": "code",
   "execution_count": null,
   "metadata": {
    "execution": {
     "iopub.execute_input": "2023-01-26T13:51:48.164034Z",
     "iopub.status.busy": "2023-01-26T13:51:48.163261Z",
     "iopub.status.idle": "2023-01-26T13:51:48.230537Z",
     "shell.execute_reply": "2023-01-26T13:51:48.229629Z",
     "shell.execute_reply.started": "2023-01-26T13:51:48.163998Z"
    }
   },
   "outputs": [],
   "source": [
    "df1[\"Premiere\"] = pd.to_datetime(df1[\"Premiere\"])"
   ]
  },
  {
   "cell_type": "code",
   "execution_count": null,
   "metadata": {
    "execution": {
     "iopub.execute_input": "2023-01-26T13:51:48.232074Z",
     "iopub.status.busy": "2023-01-26T13:51:48.231713Z",
     "iopub.status.idle": "2023-01-26T13:51:48.244216Z",
     "shell.execute_reply": "2023-01-26T13:51:48.243171Z",
     "shell.execute_reply.started": "2023-01-26T13:51:48.232042Z"
    }
   },
   "outputs": [],
   "source": [
    "df1.info()"
   ]
  },
  {
   "cell_type": "code",
   "execution_count": null,
   "metadata": {
    "execution": {
     "iopub.execute_input": "2023-01-26T13:51:48.246134Z",
     "iopub.status.busy": "2023-01-26T13:51:48.245838Z",
     "iopub.status.idle": "2023-01-26T13:51:48.258612Z",
     "shell.execute_reply": "2023-01-26T13:51:48.257599Z",
     "shell.execute_reply.started": "2023-01-26T13:51:48.246110Z"
    }
   },
   "outputs": [],
   "source": [
    "df1.columns"
   ]
  },
  {
   "cell_type": "code",
   "execution_count": null,
   "metadata": {
    "execution": {
     "iopub.execute_input": "2023-01-26T13:51:48.260455Z",
     "iopub.status.busy": "2023-01-26T13:51:48.260115Z",
     "iopub.status.idle": "2023-01-26T13:51:49.000211Z",
     "shell.execute_reply": "2023-01-26T13:51:48.999016Z",
     "shell.execute_reply.started": "2023-01-26T13:51:48.260424Z"
    }
   },
   "outputs": [],
   "source": [
    "plt.figure(figsize=(15,9))\n",
    "plt.hist(df1[\"Runtime\"], df1[\"IMDB Score\"])\n",
    "plt.xlabel(\"Run Time (minutes)\")\n",
    "plt.ylabel(\"Duration (days)\")\n",
    "\n",
    "plt.title(\"Relationship between Run Time and Duration\")\n",
    "plt.show()"
   ]
  }
 ],
 "metadata": {
  "kernelspec": {
   "display_name": "Python 3 (ipykernel)",
   "language": "python",
   "name": "python3"
  },
  "language_info": {
   "codemirror_mode": {
    "name": "ipython",
    "version": 3
   },
   "file_extension": ".py",
   "mimetype": "text/x-python",
   "name": "python",
   "nbconvert_exporter": "python",
   "pygments_lexer": "ipython3",
   "version": "3.11.4"
  }
 },
 "nbformat": 4,
 "nbformat_minor": 4
}
